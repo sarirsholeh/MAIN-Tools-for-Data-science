{
 "cells": [
  {
   "cell_type": "markdown",
   "id": "97d76ffc",
   "metadata": {},
   "source": [
    "# SHOLEH SARIRI"
   ]
  },
  {
   "cell_type": "markdown",
   "id": "98c80e97",
   "metadata": {},
   "source": [
    "# Conditional probabilities "
   ]
  },
  {
   "cell_type": "markdown",
   "id": "48c756a6",
   "metadata": {},
   "source": [
    "### Suppose we have a dataset with the following information for each student:\n",
    "\n",
    "1.Gender (Male or Female)\n",
    "2.Study Time (Low, Medium, or High)\n",
    "3.Exam Result (Pass or Fail)"
   ]
  },
  {
   "cell_type": "markdown",
   "id": "0d217bdf",
   "metadata": {},
   "source": [
    "***bold***\n",
    "\n",
    "__bold__"
   ]
  },
  {
   "attachments": {},
   "cell_type": "markdown",
   "id": "243330f5",
   "metadata": {},
   "source": [
    "![Example Image](conditional.JPG)"
   ]
  },
  {
   "cell_type": "markdown",
   "id": "390e8d6b",
   "metadata": {},
   "source": [
    "### Now, let's find the conditional probability of passing the exam (Event A) given that the student is a male (Event B). In other words, we want to find P(Pass | Male).\n",
    "\n",
    "#### Step 1: Count the occurrences of both events.\n",
    "\n",
    "#### Total number of students (n) = 8\n",
    "#### Number of male students (n(Male)) = 4\n",
    "#### Number of students who passed (n(Pass)) = 5\n",
    "#### Number of male students who passed (n(Pass ∩ Male)) = 3\n",
    "#### Step 2: Calculate the conditional probability.\n",
    "##### P(Pass | Male) = n(Pass ∩ Male) / n(Male) = 3 / 4 = 0.75\n",
    "\n",
    "##### So, the conditional probability of passing the exam given that the student is a male is 0.75 or 75%. This means that 75% of male students in the dataset passed the exam."
   ]
  },
  {
   "cell_type": "markdown",
   "id": "5a58a606",
   "metadata": {},
   "source": [
    "# EXAMPLE"
   ]
  },
  {
   "cell_type": "code",
   "execution_count": 4,
   "id": "9a8cf9de",
   "metadata": {},
   "outputs": [],
   "source": [
    "# Sample dataset\n",
    "data = {\n",
    "    'Student': [1, 2, 3, 4, 5, 6, 7, 8],\n",
    "    'Gender': ['Male', 'Female', 'Male', 'Female', 'Male', 'Female', 'Male', 'Female'],\n",
    "    'Study Time': ['Low', 'Medium', 'High', 'Low', 'High', 'Medium', 'Medium', 'High'],\n",
    "    'Exam Result': ['Fail', 'Pass', 'Pass', 'Fail', 'Pass', 'Pass', 'Fail', 'Pass']\n",
    "}\n",
    "\n",
    "df = pd.DataFrame(data)"
   ]
  },
  {
   "cell_type": "code",
   "execution_count": 5,
   "id": "31b327e2",
   "metadata": {},
   "outputs": [
    {
     "name": "stdout",
     "output_type": "stream",
     "text": [
      "The conditional probability of passing the exam given that the student is a male: 0.50\n"
     ]
    }
   ],
   "source": [
    "# Calculate the conditional probability\n",
    "pass_given_male = df[df['Gender'] == 'Male']['Exam Result'].value_counts(normalize=True)['Pass']\n",
    "\n",
    "print(f\"The conditional probability of passing the exam given that the student is a male: {pass_given_male:.2f}\")"
   ]
  },
  {
   "cell_type": "code",
   "execution_count": null,
   "id": "d1bcdc2c",
   "metadata": {},
   "outputs": [],
   "source": [
    "The conditional probability of passing the exam given that the student is a male is 0.50 or 50%."
   ]
  }
 ],
 "metadata": {
  "kernelspec": {
   "display_name": "Python 3 (ipykernel)",
   "language": "python",
   "name": "python3"
  },
  "language_info": {
   "codemirror_mode": {
    "name": "ipython",
    "version": 3
   },
   "file_extension": ".py",
   "mimetype": "text/x-python",
   "name": "python",
   "nbconvert_exporter": "python",
   "pygments_lexer": "ipython3",
   "version": "3.10.9"
  }
 },
 "nbformat": 4,
 "nbformat_minor": 5
}
