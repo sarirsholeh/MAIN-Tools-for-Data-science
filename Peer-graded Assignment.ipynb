{
 "cells": [
  {
   "cell_type": "markdown",
   "id": "3e0e7849",
   "metadata": {},
   "source": [
    "# Peer-graded Assignment"
   ]
  },
  {
   "cell_type": "markdown",
   "id": "0a5e6b1b",
   "metadata": {},
   "source": [
    "## Data Science Tools and Ecosystem"
   ]
  },
  {
   "cell_type": "markdown",
   "id": "52fd057a",
   "metadata": {},
   "source": [
    "### In this notebook, Data Science Tools and Ecosystem are summarized.\n"
   ]
  },
  {
   "cell_type": "markdown",
   "id": "f2f5309e",
   "metadata": {},
   "source": [
    "### Some of the popular languages that Data Scientists use are:\n",
    "1. PYTHON\n",
    "2. C\n",
    "3. SQL"
   ]
  },
  {
   "cell_type": "markdown",
   "id": "27ff6ae2",
   "metadata": {},
   "source": [
    "### Some of the commonly used libraries used by Data Scientists include:\n",
    "1. PANDAS\n",
    "2. NUMPY\n",
    "3. SEABORN"
   ]
  },
  {
   "cell_type": "markdown",
   "id": "dd469f3e",
   "metadata": {},
   "source": [
    "| Tool           | Description                                                |\n",
    "|----------------|------------------------------------------------------------|\n",
    "| Jupyter        | Interactive computing environment for data science        |\n",
    "| RStudio        | Integrated development environment for R programming     |\n",
    "| Anaconda       | Package manager and collection of open-source packages    |\n",
    "| Pandas         | Python library for data manipulation and analysis         |\n",
    "| NumPy          | Fundamental library for scientific computing in Python    |\n",
    "| Matplotlib     | Python library for data visualization                     |\n",
    "| Seaborn        | Higher-level interface for statistical graphics in Python |\n",
    "| Scikit-learn   | Python library for machine learning                       |\n",
    "| TensorFlow     | Deep learning framework in Python                         |\n",
    "| PyTorch        | Deep learning framework in Python                         |\n",
    "| SQL            | Querying and manipulating data in relational databases    |\n",
    "| Apache Spark   | Big data processing framework                             |\n",
    "| Tableau        | Data visualization tool                                   |\n",
    "| Power BI       | Data visualization tool                                   |\n",
    "| Excel          | Spreadsheet software for basic data analysis              |"
   ]
  },
  {
   "cell_type": "markdown",
   "id": "acf6abfa",
   "metadata": {},
   "source": [
    "## Below are a few examples of evaluating arithmetic expressions in Python."
   ]
  },
  {
   "cell_type": "code",
   "execution_count": 3,
   "id": "95e5aea1",
   "metadata": {},
   "outputs": [
    {
     "data": {
      "text/plain": [
       "12"
      ]
     },
     "execution_count": 3,
     "metadata": {},
     "output_type": "execute_result"
    }
   ],
   "source": [
    "3*4"
   ]
  },
  {
   "cell_type": "code",
   "execution_count": 4,
   "id": "9afd7304",
   "metadata": {},
   "outputs": [
    {
     "data": {
      "text/plain": [
       "8"
      ]
     },
     "execution_count": 4,
     "metadata": {},
     "output_type": "execute_result"
    }
   ],
   "source": [
    "3+5"
   ]
  },
  {
   "cell_type": "markdown",
   "id": "78bf300e",
   "metadata": {},
   "source": [
    "# This will convert 200 minutes to hours by diving by 60."
   ]
  },
  {
   "cell_type": "code",
   "execution_count": 6,
   "id": "91625512",
   "metadata": {},
   "outputs": [
    {
     "data": {
      "text/plain": [
       "3.3333333333333335"
      ]
     },
     "execution_count": 6,
     "metadata": {},
     "output_type": "execute_result"
    }
   ],
   "source": [
    "result=200 / 60\n",
    "result"
   ]
  },
  {
   "cell_type": "markdown",
   "id": "7b71b163",
   "metadata": {},
   "source": [
    "# Objectives"
   ]
  },
  {
   "cell_type": "markdown",
   "id": "fffa00fe",
   "metadata": {},
   "source": [
    "| No. | Objectives                                                |\n",
    "|-----|----------------------------------------------------------|\n",
    "| 1   | Data Collection: Gather relevant and reliable data      |\n",
    "|     | from various sources.                                    |\n",
    "| 2   | Data Preprocessing: Cleanse, transform, and preprocess  |\n",
    "|     | the collected data.                                     |\n",
    "| 3   | Exploratory Data Analysis (EDA): Gain insights into the  |\n",
    "|     | data through visualization and analysis.                |\n",
    "| 4   | Feature Engineering: Select or create relevant features |\n",
    "|     | for building predictive models.                         |\n",
    "| 5   | Model Development: Train and validate machine learning  |\n",
    "|     | models using preprocessed data.                         |\n",
    "| 6   | Model Evaluation: Assess model performance using        |\n",
    "|     | appropriate metrics.                                    |\n",
    "| 7   | Hyperparameter Tuning: Optimize model parameters for    |\n",
    "|     | better performance.                                     |\n",
    "| 8   | Predictions and Inference: Use the best-performing      |\n",
    "|     | model to make predictions or draw inferences.           |\n",
    "| 9   | Communication and Reporting: Summarize findings,        |\n",
    "|     | insights, and predictions effectively.                  |\n",
    "| 10  | Documentation: Maintain comprehensive project          |\n",
    "|     | documentation.                                          |\n",
    "| 11  | Reproducibility: Ensure the project can be replicated   |\n",
    "|     | with version control and environment details.           |\n",
    "| 12  | Deployment (if applicable): Deploy models or insights   |\n",
    "|     | for practical use.                                      |"
   ]
  },
  {
   "cell_type": "markdown",
   "id": "a35c0aa8",
   "metadata": {},
   "source": [
    "# Author\n",
    "\n",
    "## Sholeh Asl Sariraei"
   ]
  },
  {
   "cell_type": "code",
   "execution_count": null,
   "id": "379b8c76",
   "metadata": {},
   "outputs": [],
   "source": []
  }
 ],
 "metadata": {
  "kernelspec": {
   "display_name": "Python 3 (ipykernel)",
   "language": "python",
   "name": "python3"
  },
  "language_info": {
   "codemirror_mode": {
    "name": "ipython",
    "version": 3
   },
   "file_extension": ".py",
   "mimetype": "text/x-python",
   "name": "python",
   "nbconvert_exporter": "python",
   "pygments_lexer": "ipython3",
   "version": "3.10.9"
  }
 },
 "nbformat": 4,
 "nbformat_minor": 5
}
